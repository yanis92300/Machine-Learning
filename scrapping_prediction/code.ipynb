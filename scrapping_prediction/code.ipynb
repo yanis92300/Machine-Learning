{
 "cells": [
  {
   "cell_type": "code",
   "execution_count": 1,
   "metadata": {},
   "outputs": [],
   "source": [
    "from bs4 import BeautifulSoup as bs\n",
    "import pandas as pd\n",
    "import numpy as np\n",
    "import requests"
   ]
  },
  {
   "cell_type": "code",
   "execution_count": 4,
   "metadata": {},
   "outputs": [
    {
     "name": "stdout",
     "output_type": "stream",
     "text": [
      "\n",
      "Le Blanc,\n",
      "Provence-Alpes-Côte d'Azur,\n",
      "France\n",
      "\n",
      "\n",
      "Lisieux,\n",
      "Basse-Normandie,\n",
      "France\n",
      "\n",
      "\n",
      "Lisieux,\n",
      "Basse-Normandie,\n",
      "France\n",
      "\n",
      "\n",
      "Lisieux,\n",
      "Basse-Normandie,\n",
      "France\n",
      "\n",
      "\n",
      "Sainte-Geneviève-des-Bois,\n",
      "Île-de-France,\n",
      "France\n",
      "\n",
      "\n",
      "Sainte-Geneviève-des-Bois,\n",
      "Île-de-France,\n",
      "France\n",
      "\n",
      "\n",
      "Saint-Quentin,\n",
      "Picardie,\n",
      "France\n",
      "\n",
      "\n",
      "Amiens,\n",
      "Picardie,\n",
      "France\n",
      "\n",
      "\n",
      "Rivery,\n",
      "Picardie,\n",
      "France\n",
      "\n",
      "\n",
      "Saint-Quentin,\n",
      "Picardie,\n",
      "France\n",
      "\n",
      "\n",
      "Saint-Quentin,\n",
      "Picardie,\n",
      "France\n",
      "\n",
      "\n",
      "Vernon,\n",
      "Poitou-Charentes,\n",
      "France\n",
      "\n",
      "\n",
      "Mâcon,\n",
      "Bourgogne,\n",
      "France\n",
      "\n",
      "\n",
      "Compiègne,\n",
      "Picardie,\n",
      "France\n",
      "\n",
      "\n",
      "Bar-le-Duc,\n",
      "Midi-Pyrénées,\n",
      "France\n",
      "\n"
     ]
    }
   ],
   "source": [
    "#feature location  a revoir quadn on passe a la page suivante (66-> 67)\n",
    "location = []\n",
    "for i in range (0,15):\n",
    "    r = requests.get(\n",
    "        'https://www.ooyyo.com/france/used-cars-for-sale/c=CDA31D7114D3854F111BFB6FAA651453/')\n",
    "    soup = bs(r.content, 'lxml')\n",
    "\n",
    "    data_loc = soup.find_all(\"div\", {\"class\": \"mob-location\"} )\n",
    "    print(data_loc[i].text)\n",
    "    location.append(data_loc[i].text)\n"
   ]
  },
  {
   "cell_type": "code",
   "execution_count": 6,
   "metadata": {},
   "outputs": [],
   "source": [
    "make=[]\n",
    "temph2=[]\n",
    "for i in range(0, 15):\n",
    "    soup = bs(r.content, 'lxml')\n",
    "    makee = soup.select(\"h2 + span\")\n",
    "    r = requests.get(\n",
    "        'https://www.ooyyo.com/france/used-cars-for-sale/c=CDA31D7114D3854F111BFB6FAA651453/')\n",
    "    find_beta = soup.find_all(\"div\", {\"class\": \"beta\"})\n",
    "  \n",
    "for data in find_beta:\n",
    "    temp = data.find('h2')\n",
    "        # print(temp.text)\n",
    "    temph2.append(temp)\n",
    "\n",
    "for text in temph2:\n",
    "    temp = text.find_next(\"span\").find_next('span')\n",
    "    make.append(temp.text)\n",
    "    \n"
   ]
  },
  {
   "cell_type": "code",
   "execution_count": 10,
   "metadata": {},
   "outputs": [
    {
     "data": {
      "text/plain": [
       "str"
      ]
     },
     "execution_count": 10,
     "metadata": {},
     "output_type": "execute_result"
    }
   ],
   "source": [
    "# feature : Make,Model, Mi,Year, Fuel Type, City, \n"
   ]
  },
  {
   "cell_type": "code",
   "execution_count": 10,
   "metadata": {},
   "outputs": [],
   "source": [
    "# page_offset = list(np.arange(0,1000,50))\n",
    "# page_offset"
   ]
  },
  {
   "cell_type": "code",
   "execution_count": null,
   "metadata": {},
   "outputs": [],
   "source": [
    "Model = []\n",
    "Km = []\n",
    "Year=[]\n",
    "ad_title = []\n",
    "Fuel=[]\n",
    "price = []\n",
    "ad_date = []\n"
   ]
  },
  {
   "cell_type": "code",
   "execution_count": 12,
   "metadata": {},
   "outputs": [
    {
     "data": {
      "text/plain": [
       "[0,\n",
       " 50,\n",
       " 100,\n",
       " 150,\n",
       " 200,\n",
       " 250,\n",
       " 300,\n",
       " 350,\n",
       " 400,\n",
       " 450,\n",
       " 500,\n",
       " 550,\n",
       " 600,\n",
       " 650,\n",
       " 700,\n",
       " 750,\n",
       " 800,\n",
       " 850,\n",
       " 900,\n",
       " 950]"
      ]
     },
     "execution_count": 12,
     "metadata": {},
     "output_type": "execute_result"
    }
   ],
   "source": [
    "\n",
    "page_offset = list(np.arange(0,1000,50))\n",
    "page_offset"
   ]
  },
  {
   "cell_type": "markdown",
   "metadata": {},
   "source": []
  }
 ],
 "metadata": {
  "interpreter": {
   "hash": "81794d4967e6c3204c66dcd87b604927b115b27c00565d3d43f05ba2f3a2cb0d"
  },
  "kernelspec": {
   "display_name": "Python 3.9.7 64-bit",
   "language": "python",
   "name": "python3"
  },
  "language_info": {
   "codemirror_mode": {
    "name": "ipython",
    "version": 3
   },
   "file_extension": ".py",
   "mimetype": "text/x-python",
   "name": "python",
   "nbconvert_exporter": "python",
   "pygments_lexer": "ipython3",
   "version": "3.9.7"
  },
  "orig_nbformat": 4
 },
 "nbformat": 4,
 "nbformat_minor": 2
}
