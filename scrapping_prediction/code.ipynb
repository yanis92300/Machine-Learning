{
 "cells": [
  {
   "cell_type": "code",
   "execution_count": 1,
   "metadata": {},
   "outputs": [],
   "source": [
    "from bs4 import BeautifulSoup as bs\n",
    "import pandas as pd\n",
    "import numpy as np\n",
    "import requests"
   ]
  },
  {
   "cell_type": "markdown",
   "metadata": {},
   "source": [
    "1) Localisation : Extraire Pays,Ville et Region"
   ]
  },
  {
   "cell_type": "code",
   "execution_count": null,
   "metadata": {},
   "outputs": [],
   "source": [
    "#feature location  a revoir quadn on passe a la page suivante (66-> 67)\n",
    "location = []\n",
    "for i in range (5,10):\n",
    "    r = requests.get(\n",
    "        'https://www.ooyyo.com/france/used-cars-for-sale/c=CDA31D7114D3854F111BFB6FAA6{}1453/'.format(i))\n",
    "    soup = bs(r.content, 'lxml')\n",
    "    \n",
    "    for j in range(0,15):\n",
    "        data_loc = soup.find_all(\"div\", {\"class\": \"mob-location\"})\n",
    "        str = data_loc[j].text\n",
    "        str = str.replace('\\n', \"\")\n",
    "        location.append(str)\n",
    "\n",
    "\n"
   ]
  },
  {
   "cell_type": "code",
   "execution_count": 16,
   "metadata": {},
   "outputs": [],
   "source": [
    "#get district\n",
    "Region=[]\n",
    "Pays=[]\n",
    "Ville=[]\n",
    "for loc in range(len(location)):\n",
    "    strregion = location[loc].partition(',')[2].rpartition(',')[0]\n",
    "    strpays = location[loc].partition(',')[2].rpartition(',')[2]\n",
    "    strville = location[loc].partition(',')[0]\n",
    "    Ville.append(strville)\n",
    "    Region.append(strregion)\n",
    "    Pays.append(strpays)\n",
    "\n"
   ]
  },
  {
   "cell_type": "markdown",
   "metadata": {},
   "source": [
    "2. Other Features Fuel, Make, Model,Trim, Yeah,Km, Price (target variable)\n"
   ]
  },
  {
   "cell_type": "code",
   "execution_count": null,
   "metadata": {},
   "outputs": [],
   "source": [
    "Fuel = []\n",
    "for i in range(5, 10):\n",
    "    r = requests.get(\n",
    "        'https://www.ooyyo.com/france/used-cars-for-sale/c=CDA31D7114D3854F111BFB6FAA6{}1453/'.format(i))\n",
    "    soup = bs(r.content, 'lxml')\n",
    "\n",
    "    for j in range(0, 15):\n",
    "        description = soup.find_all(\"div\", {\"class\": \"description\"})\n",
    "        str = data_loc[j].text\n",
    "        # str = str.replace('\\n', \"\")\n",
    "        # location.append(str)\n",
    "        fuel=soup.find_all()\n",
    "        # print(str)\n",
    "        \n",
    "    for fuel in description:\n",
    "        temp = fuel.find_next(\"span\").find_next(\"span\").text.partition(',')[0]\n",
    "        Fuel.append(temp)\n"
   ]
  },
  {
   "cell_type": "code",
   "execution_count": null,
   "metadata": {},
   "outputs": [],
   "source": [
    "Make=[]\n",
    "temph2=[]\n",
    "for i in range(5, 10):\n",
    "    r = requests.get(\n",
    "        'https://www.ooyyo.com/france/used-cars-for-sale/c=CDA31D7114D3854F111BFB6FAA6{}1453/'.format(i))\n",
    "    soup = bs(r.content, 'lxml')\n",
    "\n",
    "    for j in range(0, 15):\n",
    "        find_beta = soup.find_all(\"div\", {\"class\": \"beta\"})\n",
    "  \n",
    "    for data in find_beta:\n",
    "        temp = data.find('h2')\n",
    "        # print(temp.text)\n",
    "        temph2.append(temp)\n",
    "\n",
    "for text in temph2:\n",
    "        temp = text.find_next(\"span\").find_next('span')\n",
    "        Make.append(temp.text)\n",
    "\n",
    "\n"
   ]
  },
  {
   "cell_type": "code",
   "execution_count": null,
   "metadata": {},
   "outputs": [],
   "source": [
    "Model = []\n",
    "temph2 = []\n",
    "for i in range(5, 10):\n",
    "    r = requests.get(\n",
    "        'https://www.ooyyo.com/france/used-cars-for-sale/c=CDA31D7114D3854F111BFB6FAA6{}1453/'.format(i))\n",
    "    soup = bs(r.content, 'lxml')\n",
    "    for j in range(0, 15):\n",
    "        find_beta = soup.find_all(\"div\", {\"class\": \"beta\"})\n",
    "\n",
    "    for data in find_beta:\n",
    "        temp = data.find('h2')\n",
    "        # print(temp.text)\n",
    "        temph2.append(temp)\n",
    "\n",
    "for text in temph2:\n",
    "    temp = text.find_next(\"span\").find_next(\"span\").find_next(\"span\")\n",
    "    Model.append(temp.text)\n"
   ]
  },
  {
   "cell_type": "code",
   "execution_count": null,
   "metadata": {},
   "outputs": [],
   "source": [
    "\n",
    "trim = []\n",
    "i=1\n",
    "temph2 = []\n",
    "for i in range(5, 10):\n",
    "    r = requests.get(\n",
    "        'https://www.ooyyo.com/france/used-cars-for-sale/c=CDA31D7114D3854F111BFB6FAA6{}1453/'.format(i))\n",
    "    soup = bs(r.content, 'lxml')\n",
    "    for j in range(0, 15):\n",
    "        find_beta = soup.find_all(\"div\", {\"class\": \"beta\"})\n",
    "\n",
    "    for data in find_beta:\n",
    "        temp = data.find('h2')\n",
    "        temph2.append(temp)\n",
    "\n",
    "for block in temph2:\n",
    "    str=block.text\n",
    "    str=str.replace(\"\\n\",'_')\n",
    "    str=str.split(\"_\")[4]\n",
    "    trim.append(str)\n"
   ]
  },
  {
   "cell_type": "code",
   "execution_count": null,
   "metadata": {},
   "outputs": [],
   "source": [
    "Year = []\n",
    "temph2 = []\n",
    "for i in range(5, 10):\n",
    "    r = requests.get(\n",
    "        'https://www.ooyyo.com/france/used-cars-for-sale/c=CDA31D7114D3854F111BFB6FAA6{}1453/'.format(i))\n",
    "    soup = bs(r.content, 'lxml')\n",
    "    #Yearr = soup.select(\"h2 + span\")\n",
    "    for j in range(0,15):\n",
    "        find_beta = soup.find_all(\"div\", {\"class\": \"beta\"})\n",
    "\n",
    "    for data in find_beta:\n",
    "        temp = data.find('h2')\n",
    "            # print(temp.text)\n",
    "        temph2.append(temp)\n",
    "for text in temph2:\n",
    "        temp = text.find_next(\"span\")\n",
    "        Year.append(temp.text)\n"
   ]
  },
  {
   "cell_type": "code",
   "execution_count": null,
   "metadata": {},
   "outputs": [],
   "source": [
    "Km = []\n",
    "temph2 = []\n",
    "for i in range(5, 10):\n",
    "    r = requests.get(\n",
    "        'https://www.ooyyo.com/france/used-cars-for-sale/c=CDA31D7114D3854F111BFB6FAA6{}1453/'.format(i))\n",
    "    soup = bs(r.content, 'lxml')\n",
    "\n",
    "    for i in range(0, 15):\n",
    "        find_beta = soup.find_all(\"div\", {\"class\": \"mileage\"})\n",
    "\n",
    "    for data in find_beta:\n",
    "        temp= data.find('strong').text\n",
    "        temp= temp.replace(\"\\n\",\"\")\n",
    "        temp = temp.replace(\",\", \".\")\n",
    "        temp = temp.replace(\"km\", \"\")\n",
    "        temp = temp.replace(\" \", \"\")\n",
    "\n",
    "        Km.append(float(temp))\n",
    "\n",
    "Km= np.asarray(Km)\n",
    "\n"
   ]
  },
  {
   "cell_type": "code",
   "execution_count": 172,
   "metadata": {},
   "outputs": [
    {
     "data": {
      "text/plain": [
       "75"
      ]
     },
     "execution_count": 172,
     "metadata": {},
     "output_type": "execute_result"
    }
   ],
   "source": [
    "# if sur le nombre\n",
    "Price = []\n",
    "for i in range(5, 10):\n",
    "    r = requests.get(\n",
    "        'https://www.ooyyo.com/france/used-cars-for-sale/c=CDA31D7114D3854F111BFB6FAA6{}1453/'.format(i))\n",
    "    soup = bs(r.content, 'lxml')\n",
    "    find_tag = soup.find_all(\"a\", {\"class\": \"car-card-1\"})\n",
    "    for data in find_tag:\n",
    "        temp = data.attrs[\"data-price\"]\n",
    "        Price.append(temp)\n"
   ]
  }
 ],
 "metadata": {
  "interpreter": {
   "hash": "81794d4967e6c3204c66dcd87b604927b115b27c00565d3d43f05ba2f3a2cb0d"
  },
  "kernelspec": {
   "display_name": "Python 3.9.7 64-bit",
   "language": "python",
   "name": "python3"
  },
  "language_info": {
   "codemirror_mode": {
    "name": "ipython",
    "version": 3
   },
   "file_extension": ".py",
   "mimetype": "text/x-python",
   "name": "python",
   "nbconvert_exporter": "python",
   "pygments_lexer": "ipython3",
   "version": "3.9.7"
  },
  "orig_nbformat": 4
 },
 "nbformat": 4,
 "nbformat_minor": 2
}
