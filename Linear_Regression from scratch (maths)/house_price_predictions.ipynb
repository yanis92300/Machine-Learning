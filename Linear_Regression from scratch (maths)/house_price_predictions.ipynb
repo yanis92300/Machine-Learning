{
 "cells": [
  {
   "cell_type": "code",
   "execution_count": 37,
   "metadata": {},
   "outputs": [],
   "source": [
    "import pandas as pd \n",
    "import numpy as np \n",
    "import matplotlib.pyplot as plt\n"
   ]
  },
  {
   "cell_type": "code",
   "execution_count": 38,
   "metadata": {},
   "outputs": [],
   "source": [
    "mu = []\n",
    "std = []\n"
   ]
  },
  {
   "cell_type": "markdown",
   "metadata": {},
   "source": [
    "### Read and Visualize data "
   ]
  },
  {
   "cell_type": "code",
   "execution_count": 39,
   "metadata": {},
   "outputs": [],
   "source": [
    "def plot_data(x, y):\n",
    "    plt.xlabel('house size')\n",
    "    plt.ylabel('house price')\n",
    "    plt.plot(x, y, 'go')\n"
   ]
  },
  {
   "cell_type": "code",
   "execution_count": 40,
   "metadata": {},
   "outputs": [],
   "source": [
    "def normalize(data):\n",
    "    for i in range(data.shape[1]-1):\n",
    "        data[:,i]=(data[:,i]- np.mean(data[:,i]))/np.std(data[:,i])\n",
    "        mu.append(np.mean(data[:, i]))\n",
    "        std.append(np.std(data[:, i]))\n"
   ]
  },
  {
   "cell_type": "code",
   "execution_count": 41,
   "metadata": {},
   "outputs": [],
   "source": [
    "def read_data(file):\n",
    "    df = pd.read_csv(file, header=None)\n",
    "    df.columns=['size',' #rooms','price']\n",
    "    data = np.array(df, dtype= float )\n",
    "    plot_data(data[:, 0], data[:, 2]) ## price depending on house size \n",
    "    normalize(data) \n",
    "    return data[:,:2], data[:,2]  # house and nb rooms / price\n"
   ]
  },
  {
   "cell_type": "code",
   "execution_count": 42,
   "metadata": {},
   "outputs": [
    {
     "name": "stdout",
     "output_type": "stream",
     "text": [
      "dim X :  (47, 3)\n",
      "dim Y :  (47, 1)\n"
     ]
    },
    {
     "data": {
      "image/png": "[encoded data removed]",
      "text/plain": [
       "<Figure size 432x288 with 1 Axes>"
      ]
     },
     "metadata": {
      "needs_background": "light"
     },
     "output_type": "display_data"
    }
   ],
   "source": [
    "x ,y= read_data(\"house_price_data.txt\")\n",
    "X= np.hstack((x,np.ones((x.shape[0],1))))\n",
    "y= y.reshape(y.shape[0],1)\n",
    "print(\"dim X : \",X.shape)\n",
    "print(\"dim Y : \", y.shape)"
   ]
  },
  {
   "cell_type": "code",
   "execution_count": 43,
   "metadata": {},
   "outputs": [
    {
     "data": {
      "text/plain": [
       "(3, 1)"
      ]
     },
     "execution_count": 43,
     "metadata": {},
     "output_type": "execute_result"
    }
   ],
   "source": [
    "theta = np.random.randn(3,1)\n",
    "theta.shape"
   ]
  },
  {
   "cell_type": "code",
   "execution_count": 44,
   "metadata": {},
   "outputs": [],
   "source": [
    "def h(X,theta):\n",
    "\treturn X.dot(theta)\n",
    "\n",
    "\n"
   ]
  },
  {
   "cell_type": "code",
   "execution_count": 45,
   "metadata": {},
   "outputs": [],
   "source": [
    "# X\n",
    "\n",
    "# 0.131415422*-1.66669631 + (-0.226093368*0.0380944) + 1*1.57551011\n"
   ]
  },
  {
   "cell_type": "code",
   "execution_count": 46,
   "metadata": {},
   "outputs": [
    {
     "data": {
      "text/plain": [
       "65592268946.4394"
      ]
     },
     "execution_count": 46,
     "metadata": {},
     "output_type": "execute_result"
    }
   ],
   "source": [
    "def cost_function(X,y,theta):\n",
    "    m = X.shape[0]\n",
    "    return 1/(2*m) * np.sum((h(X, theta)-y)**2)\n",
    "\n",
    "cost_function(X,y,theta)\n"
   ]
  },
  {
   "cell_type": "code",
   "execution_count": 47,
   "metadata": {},
   "outputs": [
    {
     "name": "stdout",
     "output_type": "stream",
     "text": [
      "X :  (3, 47)\n",
      "model :  (47, 1)\n"
     ]
    }
   ],
   "source": [
    "print(\"X : \" , X.T.shape)\n",
    "print(\"model : \" ,h(X,theta).shape)\n",
    "\n"
   ]
  },
  {
   "cell_type": "code",
   "execution_count": 48,
   "metadata": {},
   "outputs": [],
   "source": [
    "def grad(X,y,theta):\n",
    "    m=X.shape[0]\n",
    "    return (1/m)*X.T.dot(h(X,theta)-y)\n"
   ]
  },
  {
   "cell_type": "code",
   "execution_count": 49,
   "metadata": {},
   "outputs": [],
   "source": [
    "def gradient_descent(X,y,theta,alpha,iterations): #alpha = learning rate\n",
    "    cost_history = np.zeros(iterations)\n",
    "    for i in range (0,iterations):\n",
    "        theta= theta - alpha*grad(X,y,theta)\n",
    "        cost_history[i]=cost_function(X,y,theta)\n",
    "    return theta,cost_history\n",
    "    "
   ]
  },
  {
   "cell_type": "markdown",
   "metadata": {},
   "source": [
    "\n",
    "## Training part"
   ]
  },
  {
   "cell_type": "code",
   "execution_count": 50,
   "metadata": {},
   "outputs": [],
   "source": [
    "theta_final,costhistory=gradient_descent(X,y,theta, alpha=0.001,iterations=10000)\n",
    "# theta_final\n"
   ]
  },
  {
   "cell_type": "code",
   "execution_count": 51,
   "metadata": {},
   "outputs": [],
   "source": [
    "preditions = h(X,theta_final)"
   ]
  },
  {
   "cell_type": "code",
   "execution_count": 52,
   "metadata": {},
   "outputs": [
    {
     "data": {
      "text/plain": [
       "[<matplotlib.lines.Line2D at 0x2425a64eaf0>]"
      ]
     },
     "execution_count": 52,
     "metadata": {},
     "output_type": "execute_result"
    },
    {
     "data": {
      "image/png": "[encoded data removed]",
      "text/plain": [
       "<Figure size 432x288 with 1 Axes>"
      ]
     },
     "metadata": {
      "needs_background": "light"
     },
     "output_type": "display_data"
    }
   ],
   "source": [
    "plt.plot(range(10000),costhistory)\n",
    "\n"
   ]
  },
  {
   "cell_type": "code",
   "execution_count": 53,
   "metadata": {},
   "outputs": [
    {
     "name": "stdout",
     "output_type": "stream",
     "text": [
      "Price of house:  [-8257333.47072162]\n"
     ]
    }
   ],
   "source": [
    "def test(theta, x):\n",
    "\tx[0] = (x[0] - mu[0])/std[0]\n",
    "\tx[1] = (x[1] - mu[1])/std[1]\n",
    "\n",
    "\ty = theta[0] + theta[1]*x[0] + theta[2]*x[1]\n",
    "\tprint(\"Price of house: \", y)\n",
    "\n",
    "\n",
    "test(theta_final, [1600, 3])\n"
   ]
  },
  {
   "cell_type": "code",
   "execution_count": 55,
   "metadata": {},
   "outputs": [
    {
     "name": "stdout",
     "output_type": "stream",
     "text": [
      "final cost :  2043502817.9248872\n",
      "initial cost :  65462275697.79493\n"
     ]
    }
   ],
   "source": [
    "print(\"final cost : \", costhistory[9999])\n",
    "print(\"initial cost : \", costhistory[0])\n",
    "\n"
   ]
  },
  {
   "cell_type": "markdown",
   "metadata": {},
   "source": []
  }
 ],
 "metadata": {
  "interpreter": {
   "hash": "63fd5069d213b44bf678585dea6b12cceca9941eaf7f819626cde1f2670de90d"
  },
  "kernelspec": {
   "display_name": "Python 3.9.7 64-bit",
   "language": "python",
   "name": "python3"
  },
  "language_info": {
   "codemirror_mode": {
    "name": "ipython",
    "version": 3
   },
   "file_extension": ".py",
   "mimetype": "text/x-python",
   "name": "python",
   "nbconvert_exporter": "python",
   "pygments_lexer": "ipython3",
   "version": "3.9.7"
  },
  "orig_nbformat": 4
 },
 "nbformat": 4,
 "nbformat_minor": 2
}
