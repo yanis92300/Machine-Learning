{
 "cells": [
  {
   "cell_type": "code",
   "execution_count": 6,
   "metadata": {},
   "outputs": [],
   "source": [
    "import pandas as pd \n",
    "import numpy as np \n",
    "import matplotlib.pyplot as plt\n"
   ]
  },
  {
   "cell_type": "markdown",
   "metadata": {},
   "source": [
    "### Read and Visualize data "
   ]
  },
  {
   "cell_type": "code",
   "execution_count": 7,
   "metadata": {},
   "outputs": [],
   "source": [
    "def plot_data(x, y):\n",
    "    plt.xlabel('house size')\n",
    "    plt.ylabel('house price')\n",
    "    plt.plot(x, y, 'go')\n"
   ]
  },
  {
   "cell_type": "code",
   "execution_count": 8,
   "metadata": {},
   "outputs": [],
   "source": [
    "def normalize(data):\n",
    "    for i in range(data.shape[1]-1):\n",
    "        data[:,i]=(data[:,i]- np.mean(data[:,i]))/np.std(data[:,i])\n",
    "\n"
   ]
  },
  {
   "cell_type": "code",
   "execution_count": 13,
   "metadata": {},
   "outputs": [],
   "source": [
    "def read_data(file):\n",
    "    df = pd.read_csv(file)\n",
    "    df.columns=['size',' #rooms','price']\n",
    "    data = np.array(df)\n",
    "    plot_data(data[:, 0], data[:, 2])\n",
    "    normalize(data)\n",
    "    plt.show()\n",
    "    return data[:,:2], data[:,2]\n"
   ]
  },
  {
   "cell_type": "code",
   "execution_count": 14,
   "metadata": {},
   "outputs": [
    {
     "name": "stdout",
     "output_type": "stream",
     "text": [
      "46\n"
     ]
    },
    {
     "data": {
      "image/png": "[encoded data removed]",
      "text/plain": [
       "<Figure size 432x288 with 1 Axes>"
      ]
     },
     "metadata": {
      "needs_background": "light"
     },
     "output_type": "display_data"
    },
    {
     "data": {
      "text/plain": [
       "(array([[ 0,  0],\n",
       "        [ 0,  0],\n",
       "        [ 0, -1],\n",
       "        [ 1,  1],\n",
       "        [ 0,  1],\n",
       "        [ 0,  0],\n",
       "        [ 0,  0],\n",
       "        [ 0,  0],\n",
       "        [ 0,  0],\n",
       "        [ 0,  1],\n",
       "        [ 0,  0],\n",
       "        [ 0,  0],\n",
       "        [ 3,  2],\n",
       "        [ 0,  0],\n",
       "        [ 0,  1],\n",
       "        [ 0, -1],\n",
       "        [ 0,  0],\n",
       "        [ 0,  1],\n",
       "        [ 1,  1],\n",
       "        [ 0,  0],\n",
       "        [ 0, -1],\n",
       "        [ 0,  0],\n",
       "        [ 0,  1],\n",
       "        [ 2,  0],\n",
       "        [-1,  0],\n",
       "        [ 0,  0],\n",
       "        [ 0,  0],\n",
       "        [ 0,  0],\n",
       "        [ 0,  0],\n",
       "        [ 0, -1],\n",
       "        [-1, -2],\n",
       "        [ 0,  1],\n",
       "        [ 1,  0],\n",
       "        [ 0,  1],\n",
       "        [ 0,  0],\n",
       "        [ 0,  0],\n",
       "        [ 0,  1],\n",
       "        [ 2,  1],\n",
       "        [ 0,  1],\n",
       "        [ 0, -1],\n",
       "        [ 0,  0],\n",
       "        [ 0,  1],\n",
       "        [-1,  0],\n",
       "        [-1, -1],\n",
       "        [ 0,  1],\n",
       "        [-1,  0]], dtype=int64),\n",
       " array([329900, 369000, 232000, 539900, 299900, 314900, 198999, 212000,\n",
       "        242500, 239999, 347000, 329999, 699900, 259900, 449900, 299900,\n",
       "        199900, 499998, 599000, 252900, 255000, 242900, 259900, 573900,\n",
       "        249900, 464500, 469000, 475000, 299900, 349900, 169900, 314900,\n",
       "        579900, 285900, 249900, 229900, 345000, 549000, 287000, 368500,\n",
       "        329900, 314000, 299000, 179900, 299900, 239500], dtype=int64))"
      ]
     },
     "execution_count": 14,
     "metadata": {},
     "output_type": "execute_result"
    }
   ],
   "source": [
    "read_data(\"house_price_data.txt\")\n"
   ]
  },
  {
   "cell_type": "code",
   "execution_count": null,
   "metadata": {},
   "outputs": [],
   "source": [
    "def h(x,theta):\n",
    "\treturn np.matmul(x, theta)"
   ]
  },
  {
   "cell_type": "code",
   "execution_count": 15,
   "metadata": {},
   "outputs": [],
   "source": [
    "def cost_function(x,y,theta):\n",
    "    cost = (h(x,theta)-y)@(h(x,theta)-y).T/(2*x.shape[0])\n"
   ]
  }
 ],
 "metadata": {
  "interpreter": {
   "hash": "63fd5069d213b44bf678585dea6b12cceca9941eaf7f819626cde1f2670de90d"
  },
  "kernelspec": {
   "display_name": "Python 3.9.7 64-bit",
   "language": "python",
   "name": "python3"
  },
  "language_info": {
   "codemirror_mode": {
    "name": "ipython",
    "version": 3
   },
   "file_extension": ".py",
   "mimetype": "text/x-python",
   "name": "python",
   "nbconvert_exporter": "python",
   "pygments_lexer": "ipython3",
   "version": "3.9.7"
  },
  "orig_nbformat": 4
 },
 "nbformat": 4,
 "nbformat_minor": 2
}
