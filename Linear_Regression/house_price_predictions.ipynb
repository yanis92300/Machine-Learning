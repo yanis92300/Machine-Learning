{
 "cells": [
  {
   "cell_type": "code",
   "execution_count": 545,
   "metadata": {},
   "outputs": [],
   "source": [
    "import pandas as pd \n",
    "import numpy as np \n",
    "import matplotlib.pyplot as plt\n"
   ]
  },
  {
   "cell_type": "markdown",
   "metadata": {},
   "source": [
    "### Read and Visualize data "
   ]
  },
  {
   "cell_type": "code",
   "execution_count": 546,
   "metadata": {},
   "outputs": [],
   "source": [
    "def plot_data(x, y):\n",
    "    plt.xlabel('house size')\n",
    "    plt.ylabel('house price')\n",
    "    plt.plot(x, y, 'go')\n"
   ]
  },
  {
   "cell_type": "code",
   "execution_count": 547,
   "metadata": {},
   "outputs": [],
   "source": [
    "def normalize(data):\n",
    "    for i in range(data.shape[1]-1):\n",
    "        data[:,i]=(data[:,i]- np.mean(data[:,i]))/np.std(data[:,i])\n",
    "\n"
   ]
  },
  {
   "cell_type": "code",
   "execution_count": 548,
   "metadata": {},
   "outputs": [],
   "source": [
    "def read_data(file):\n",
    "    df = pd.read_csv(file, header=None)\n",
    "    df.columns=['size',' #rooms','price']\n",
    "    data = np.array(df, dtype= float )\n",
    "    plot_data(data[:, 0], data[:, 2]) ## price depending on house size \n",
    "    normalize(data) \n",
    "    return data[:,:2], data[:,2]  # house and nb rooms / price\n"
   ]
  },
  {
   "cell_type": "code",
   "execution_count": 549,
   "metadata": {},
   "outputs": [
    {
     "name": "stdout",
     "output_type": "stream",
     "text": [
      "dim X :  (47, 3)\n",
      "dim Y :  (47, 1)\n"
     ]
    },
    {
     "data": {
      "image/png": "[encoded data removed]",
      "text/plain": [
       "<Figure size 432x288 with 1 Axes>"
      ]
     },
     "metadata": {
      "needs_background": "light"
     },
     "output_type": "display_data"
    }
   ],
   "source": [
    "x ,y= read_data(\"house_price_data.txt\")\n",
    "X= np.hstack((x,np.ones((x.shape[0],1))))\n",
    "y= y.reshape(y.shape[0],1)\n",
    "print(\"dim X : \",X.shape)\n",
    "print(\"dim Y : \", y.shape)\n",
    "\n",
    "\n",
    "\n"
   ]
  },
  {
   "cell_type": "code",
   "execution_count": 550,
   "metadata": {},
   "outputs": [
    {
     "data": {
      "text/plain": [
       "(3, 1)"
      ]
     },
     "execution_count": 550,
     "metadata": {},
     "output_type": "execute_result"
    }
   ],
   "source": [
    "theta = np.random.randn(3,1)\n",
    "theta.shape"
   ]
  },
  {
   "cell_type": "code",
   "execution_count": 551,
   "metadata": {},
   "outputs": [],
   "source": [
    "def h(X,theta):\n",
    "\treturn X.dot(theta)\n",
    "\n",
    "\n"
   ]
  },
  {
   "cell_type": "code",
   "execution_count": 552,
   "metadata": {},
   "outputs": [
    {
     "data": {
      "text/plain": [
       "1.3478676198775679"
      ]
     },
     "execution_count": 552,
     "metadata": {},
     "output_type": "execute_result"
    }
   ],
   "source": [
    "X\n",
    "\n",
    "0.131415422*-1.66669631 + (-0.226093368*0.0380944) + 1*1.57551011\n"
   ]
  },
  {
   "cell_type": "code",
   "execution_count": 554,
   "metadata": {},
   "outputs": [
    {
     "data": {
      "text/plain": [
       "array([[ 1.31415422e-01, -2.26093368e-01,  1.00000000e+00],\n",
       "       [-5.09640698e-01, -2.26093368e-01,  1.00000000e+00],\n",
       "       [ 5.07908699e-01, -2.26093368e-01,  1.00000000e+00],\n",
       "       [-7.43677059e-01, -1.55439190e+00,  1.00000000e+00],\n",
       "       [ 1.27107075e+00,  1.10220517e+00,  1.00000000e+00],\n",
       "       [-1.99450507e-02,  1.10220517e+00,  1.00000000e+00],\n",
       "       [-5.93588523e-01, -2.26093368e-01,  1.00000000e+00],\n",
       "       [-7.29685755e-01, -2.26093368e-01,  1.00000000e+00],\n",
       "       [-7.89466782e-01, -2.26093368e-01,  1.00000000e+00],\n",
       "       [-6.44465993e-01, -2.26093368e-01,  1.00000000e+00],\n",
       "       [-7.71822042e-02,  1.10220517e+00,  1.00000000e+00],\n",
       "       [-8.65999486e-04, -2.26093368e-01,  1.00000000e+00],\n",
       "       [-1.40779041e-01, -2.26093368e-01,  1.00000000e+00],\n",
       "       [ 3.15099326e+00,  2.43050370e+00,  1.00000000e+00],\n",
       "       [-9.31923697e-01, -2.26093368e-01,  1.00000000e+00],\n",
       "       [ 3.80715024e-01,  1.10220517e+00,  1.00000000e+00],\n",
       "       [-8.65782986e-01, -1.55439190e+00,  1.00000000e+00],\n",
       "       [-9.72625673e-01, -2.26093368e-01,  1.00000000e+00],\n",
       "       [ 7.73743478e-01,  1.10220517e+00,  1.00000000e+00],\n",
       "       [ 1.31050078e+00,  1.10220517e+00,  1.00000000e+00],\n",
       "       [-2.97227261e-01, -2.26093368e-01,  1.00000000e+00],\n",
       "       [-1.43322915e-01, -1.55439190e+00,  1.00000000e+00],\n",
       "       [-5.04552951e-01, -2.26093368e-01,  1.00000000e+00],\n",
       "       [-4.91995958e-02,  1.10220517e+00,  1.00000000e+00],\n",
       "       [ 2.40309445e+00, -2.26093368e-01,  1.00000000e+00],\n",
       "       [-1.14560907e+00, -2.26093368e-01,  1.00000000e+00],\n",
       "       [-6.90255715e-01, -2.26093368e-01,  1.00000000e+00],\n",
       "       [ 6.68172729e-01, -2.26093368e-01,  1.00000000e+00],\n",
       "       [ 2.53521350e-01, -2.26093368e-01,  1.00000000e+00],\n",
       "       [ 8.09357707e-01, -2.26093368e-01,  1.00000000e+00],\n",
       "       [-2.05647815e-01, -1.55439190e+00,  1.00000000e+00],\n",
       "       [-1.27280274e+00, -2.88269044e+00,  1.00000000e+00],\n",
       "       [ 5.00114703e-02,  1.10220517e+00,  1.00000000e+00],\n",
       "       [ 1.44532608e+00, -2.26093368e-01,  1.00000000e+00],\n",
       "       [-2.41262044e-01,  1.10220517e+00,  1.00000000e+00],\n",
       "       [-7.16966387e-01, -2.26093368e-01,  1.00000000e+00],\n",
       "       [-9.68809863e-01, -2.26093368e-01,  1.00000000e+00],\n",
       "       [ 1.67029651e-01,  1.10220517e+00,  1.00000000e+00],\n",
       "       [ 2.81647389e+00,  1.10220517e+00,  1.00000000e+00],\n",
       "       [ 2.05187753e-01,  1.10220517e+00,  1.00000000e+00],\n",
       "       [-4.28236746e-01, -1.55439190e+00,  1.00000000e+00],\n",
       "       [ 3.01854946e-01, -2.26093368e-01,  1.00000000e+00],\n",
       "       [ 7.20322135e-01,  1.10220517e+00,  1.00000000e+00],\n",
       "       [-1.01841540e+00, -2.26093368e-01,  1.00000000e+00],\n",
       "       [-1.46104938e+00, -1.55439190e+00,  1.00000000e+00],\n",
       "       [-1.89112638e-01,  1.10220517e+00,  1.00000000e+00],\n",
       "       [-1.01459959e+00, -2.26093368e-01,  1.00000000e+00]])"
      ]
     },
     "execution_count": 554,
     "metadata": {},
     "output_type": "execute_result"
    }
   ],
   "source": [
    "def cost_function(X,y,theta):\n",
    "    m = X.shape[0]\n",
    "    return 1/(2*m) * np.sum((h(X, theta)-y)**2)\n",
    "\n",
    "cost_function(X,y,theta)\n",
    "\n"
   ]
  }
 ],
 "metadata": {
  "interpreter": {
   "hash": "63fd5069d213b44bf678585dea6b12cceca9941eaf7f819626cde1f2670de90d"
  },
  "kernelspec": {
   "display_name": "Python 3.9.7 64-bit",
   "language": "python",
   "name": "python3"
  },
  "language_info": {
   "codemirror_mode": {
    "name": "ipython",
    "version": 3
   },
   "file_extension": ".py",
   "mimetype": "text/x-python",
   "name": "python",
   "nbconvert_exporter": "python",
   "pygments_lexer": "ipython3",
   "version": "3.9.7"
  },
  "orig_nbformat": 4
 },
 "nbformat": 4,
 "nbformat_minor": 2
}
