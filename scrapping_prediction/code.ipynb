{
 "cells": [
  {
   "cell_type": "code",
   "execution_count": 194,
   "metadata": {},
   "outputs": [],
   "source": [
    "from bs4 import BeautifulSoup as bs\n",
    "import pandas as pd\n",
    "import numpy as np\n",
    "import requests\n",
    "import matplotlib.pyplot as plt\n",
    "import seaborn as sns"
   ]
  },
  {
   "cell_type": "markdown",
   "metadata": {},
   "source": [
    "1) Localisation : Extraire Pays,Ville et Region"
   ]
  },
  {
   "cell_type": "code",
   "execution_count": 195,
   "metadata": {},
   "outputs": [
    {
     "data": {
      "text/plain": [
       "75"
      ]
     },
     "execution_count": 195,
     "metadata": {},
     "output_type": "execute_result"
    }
   ],
   "source": [
    "#feature location  a revoir quadn on passe a la page suivante (66-> 67)\n",
    "location = []\n",
    "for i in range (5,10):\n",
    "    r = requests.get(\n",
    "        'https://www.ooyyo.com/france/used-cars-for-sale/c=CDA31D7114D3854F111BFB6FAA6{}1453/'.format(i))\n",
    "    soup = bs(r.content, 'lxml')\n",
    "    \n",
    "    for j in range(0,15):\n",
    "        data_loc = soup.find_all(\"div\", {\"class\": \"mob-location\"})\n",
    "        str = data_loc[j].text\n",
    "        str = str.replace('\\n', \"\")\n",
    "        location.append(str)\n",
    "\n",
    "\n",
    "len(location)"
   ]
  },
  {
   "cell_type": "code",
   "execution_count": 196,
   "metadata": {},
   "outputs": [],
   "source": [
    "#get district\n",
    "Region=[]\n",
    "Pays=[]\n",
    "Ville=[]\n",
    "for loc in range(len(location)):\n",
    "    strregion = location[loc].partition(',')[2].rpartition(',')[0]\n",
    "    strpays = location[loc].partition(',')[2].rpartition(',')[2]\n",
    "    strville = location[loc].partition(',')[0]\n",
    "    Ville.append(strville)\n",
    "    Region.append(strregion)\n",
    "    Pays.append(strpays)\n",
    "\n"
   ]
  },
  {
   "cell_type": "markdown",
   "metadata": {},
   "source": [
    "2. Other Features Fuel, Make, Model,Trim, Yeah,Km, Price (target variable)\n"
   ]
  },
  {
   "cell_type": "code",
   "execution_count": 197,
   "metadata": {},
   "outputs": [],
   "source": [
    "Fuel = []\n",
    "for i in range(1, 10):\n",
    "    r = requests.get(\n",
    "        'https://www.ooyyo.com/france/used-cars-for-sale/c=CDA31D7114D3854F111BFB6FAA6{}1453/'.format(i))\n",
    "    soup = bs(r.content, 'lxml')\n",
    "\n",
    "    for j in range(0, 15):\n",
    "        description = soup.find_all(\"div\", {\"class\": \"description\"})\n",
    "        str = data_loc[j].text\n",
    "        # str = str.replace('\\n', \"\")\n",
    "        # location.append(str)\n",
    "        fuel=soup.find_all()\n",
    "        # print(str)\n",
    "        \n",
    "    for fuel in description:\n",
    "        temp = fuel.find_next(\"span\").find_next(\"span\").text.partition(',')[0]\n",
    "        Fuel.append(temp)\n"
   ]
  },
  {
   "cell_type": "code",
   "execution_count": 198,
   "metadata": {},
   "outputs": [],
   "source": [
    "Make=[]\n",
    "temph2=[]\n",
    "for i in range(1, 10):\n",
    "    r = requests.get(\n",
    "        'https://www.ooyyo.com/france/used-cars-for-sale/c=CDA31D7114D3854F111BFB6FAA6{}1453/'.format(i))\n",
    "    soup = bs(r.content, 'lxml')\n",
    "\n",
    "    for j in range(0, 15):\n",
    "        find_beta = soup.find_all(\"div\", {\"class\": \"beta\"})\n",
    "  \n",
    "    for data in find_beta:\n",
    "        temp = data.find('h2')\n",
    "        # print(temp.text)\n",
    "        temph2.append(temp)\n",
    "\n",
    "for text in temph2:\n",
    "        temp = text.find_next(\"span\").find_next('span')\n",
    "        Make.append(temp.text)\n",
    "\n",
    "\n"
   ]
  },
  {
   "cell_type": "code",
   "execution_count": 199,
   "metadata": {},
   "outputs": [],
   "source": [
    "Model = []\n",
    "temph2 = []\n",
    "for i in range(1, 10):\n",
    "    r = requests.get(\n",
    "        'https://www.ooyyo.com/france/used-cars-for-sale/c=CDA31D7114D3854F111BFB6FAA6{}1453/'.format(i))\n",
    "    soup = bs(r.content, 'lxml')\n",
    "    for j in range(0, 15):\n",
    "        find_beta = soup.find_all(\"div\", {\"class\": \"beta\"})\n",
    "\n",
    "    for data in find_beta:\n",
    "        temp = data.find('h2')\n",
    "        # print(temp.text)\n",
    "        temph2.append(temp)\n",
    "\n",
    "for text in temph2:\n",
    "    temp = text.find_next(\"span\").find_next(\"span\").find_next(\"span\")\n",
    "    Model.append(temp.text)\n",
    "\n"
   ]
  },
  {
   "cell_type": "code",
   "execution_count": 200,
   "metadata": {},
   "outputs": [],
   "source": [
    "\n",
    "# trim = []\n",
    "# i=1\n",
    "# temph2 = []\n",
    "# for i in range(1, 10):\n",
    "#     r = requests.get(\n",
    "#         'https://www.ooyyo.com/france/used-cars-for-sale/c=CDA31D7114D3854F111BFB6FAA6{}1453/'.format(i))\n",
    "#     soup = bs(r.content, 'lxml')\n",
    "#     for j in range(0, 15):\n",
    "#         find_beta = soup.find_all(\"div\", {\"class\": \"beta\"})\n",
    "\n",
    "#     for data in find_beta:\n",
    "#         temp = data.find('h2')\n",
    "#         temph2.append(temp)\n",
    "\n",
    "# for block in temph2:\n",
    "#     str=block.text\n",
    "#     str=str.replace(\"\\n\",'_')\n",
    "#     str=str.split(\"_\")[4]\n",
    "#     trim.append(str)\n"
   ]
  },
  {
   "cell_type": "code",
   "execution_count": 201,
   "metadata": {},
   "outputs": [],
   "source": [
    "Year = []\n",
    "temph2 = []\n",
    "for i in range(1, 10):\n",
    "    r = requests.get(\n",
    "        'https://www.ooyyo.com/france/used-cars-for-sale/c=CDA31D7114D3854F111BFB6FAA6{}1453/'.format(i))\n",
    "    soup = bs(r.content, 'lxml')\n",
    "    #Yearr = soup.select(\"h2 + span\")\n",
    "    for j in range(0,15):\n",
    "        find_beta = soup.find_all(\"div\", {\"class\": \"beta\"})\n",
    "\n",
    "    for data in find_beta:\n",
    "        temp = data.find('h2')\n",
    "            # print(temp.text)\n",
    "        temph2.append(temp)\n",
    "for text in temph2:\n",
    "        temp = text.find_next(\"span\")\n",
    "        Year.append(temp.text)\n"
   ]
  },
  {
   "cell_type": "code",
   "execution_count": 202,
   "metadata": {},
   "outputs": [],
   "source": [
    "Km = []\n",
    "temph2 = []\n",
    "for i in range(1, 10):\n",
    "    r = requests.get(\n",
    "        'https://www.ooyyo.com/france/used-cars-for-sale/c=CDA31D7114D3854F111BFB6FAA6{}1453/'.format(i))\n",
    "    soup = bs(r.content, 'lxml')\n",
    "\n",
    "    for i in range(0, 15):\n",
    "        find_beta = soup.find_all(\"div\", {\"class\": \"mileage\"})\n",
    "\n",
    "    for data in find_beta:\n",
    "        temp= data.find('strong').text\n",
    "        temp= temp.replace(\"\\n\",\"\")\n",
    "        temp = temp.replace(\",\", \".\")\n",
    "        temp = temp.replace(\"km\", \"\")\n",
    "        temp = temp.replace(\" \", \"\")\n",
    "\n",
    "        Km.append(float(temp))\n",
    "\n",
    "Km= np.asarray(Km)\n",
    "\n"
   ]
  },
  {
   "cell_type": "code",
   "execution_count": 203,
   "metadata": {},
   "outputs": [],
   "source": [
    "# if sur le nombre\n",
    "Price = []\n",
    "for i in range(1, 10):\n",
    "    r = requests.get(\n",
    "        'https://www.ooyyo.com/france/used-cars-for-sale/c=CDA31D7114D3854F111BFB6FAA6{}1453/'.format(i))\n",
    "    soup = bs(r.content, 'lxml')\n",
    "    find_tag = soup.find_all(\"a\", {\"class\": \"car-card-1\"})\n",
    "    for data in find_tag:\n",
    "        temp = data.attrs[\"data-price\"]\n",
    "        Price.append(temp)\n"
   ]
  },
  {
   "cell_type": "code",
   "execution_count": 204,
   "metadata": {},
   "outputs": [],
   "source": [
    "assert len(Make) == len(Model) == len(Km)== len(Price)== len(Year) == len(Fuel)"
   ]
  },
  {
   "cell_type": "markdown",
   "metadata": {},
   "source": [
    "3) Handle categorical features and maybe map some Km or price \n"
   ]
  },
  {
   "cell_type": "code",
   "execution_count": 218,
   "metadata": {},
   "outputs": [],
   "source": [
    "d = {'Make':Make,'Model':Model,'Km':Km,'Year':Year,'Fuel':Fuel,'Price':Price}\n"
   ]
  },
  {
   "cell_type": "code",
   "execution_count": 206,
   "metadata": {},
   "outputs": [
    {
     "data": {
      "text/html": [
       "<div>\n",
       "<style scoped>\n",
       "    .dataframe tbody tr th:only-of-type {\n",
       "        vertical-align: middle;\n",
       "    }\n",
       "\n",
       "    .dataframe tbody tr th {\n",
       "        vertical-align: top;\n",
       "    }\n",
       "\n",
       "    .dataframe thead th {\n",
       "        text-align: right;\n",
       "    }\n",
       "</style>\n",
       "<table border=\"1\" class=\"dataframe\">\n",
       "  <thead>\n",
       "    <tr style=\"text-align: right;\">\n",
       "      <th></th>\n",
       "      <th>Make</th>\n",
       "      <th>Model</th>\n",
       "      <th>Km</th>\n",
       "      <th>Trim</th>\n",
       "      <th>Year</th>\n",
       "      <th>Fuel</th>\n",
       "      <th>Price</th>\n",
       "    </tr>\n",
       "  </thead>\n",
       "  <tbody>\n",
       "    <tr>\n",
       "      <th>0</th>\n",
       "      <td>Volvo</td>\n",
       "      <td>Xc40</td>\n",
       "      <td>58.686</td>\n",
       "      <td>2.0 D3 AWD</td>\n",
       "      <td>2019</td>\n",
       "      <td>Diesel</td>\n",
       "      <td>36990</td>\n",
       "    </tr>\n",
       "    <tr>\n",
       "      <th>1</th>\n",
       "      <td>Škoda</td>\n",
       "      <td>Kodiaq</td>\n",
       "      <td>68.342</td>\n",
       "      <td>1.5 2.0 dsg scr tdi</td>\n",
       "      <td>2020</td>\n",
       "      <td>Diesel</td>\n",
       "      <td>29990</td>\n",
       "    </tr>\n",
       "    <tr>\n",
       "      <th>2</th>\n",
       "      <td>Opel</td>\n",
       "      <td>Crossland X</td>\n",
       "      <td>34.575</td>\n",
       "      <td>1.2</td>\n",
       "      <td>2019</td>\n",
       "      <td>Petrol</td>\n",
       "      <td>15990</td>\n",
       "    </tr>\n",
       "    <tr>\n",
       "      <th>3</th>\n",
       "      <td>Opel</td>\n",
       "      <td>Crossland X</td>\n",
       "      <td>28.646</td>\n",
       "      <td>1.2</td>\n",
       "      <td>2019</td>\n",
       "      <td>Petrol</td>\n",
       "      <td>14990</td>\n",
       "    </tr>\n",
       "    <tr>\n",
       "      <th>4</th>\n",
       "      <td>Audi</td>\n",
       "      <td>A5</td>\n",
       "      <td>69.497</td>\n",
       "      <td>2.0</td>\n",
       "      <td>2016</td>\n",
       "      <td>Diesel</td>\n",
       "      <td>24900</td>\n",
       "    </tr>\n",
       "  </tbody>\n",
       "</table>\n",
       "</div>"
      ],
      "text/plain": [
       "    Make        Model      Km                 Trim  Year    Fuel  Price\n",
       "0  Volvo         Xc40  58.686           2.0 D3 AWD  2019  Diesel  36990\n",
       "1  Škoda       Kodiaq  68.342  1.5 2.0 dsg scr tdi  2020  Diesel  29990\n",
       "2   Opel  Crossland X  34.575                  1.2  2019  Petrol  15990\n",
       "3   Opel  Crossland X  28.646                  1.2  2019  Petrol  14990\n",
       "4   Audi           A5  69.497                  2.0  2016  Diesel  24900"
      ]
     },
     "execution_count": 206,
     "metadata": {},
     "output_type": "execute_result"
    }
   ],
   "source": [
    "df = pd.DataFrame(data=d)\n",
    "df.head()"
   ]
  },
  {
   "cell_type": "code",
   "execution_count": 207,
   "metadata": {},
   "outputs": [
    {
     "name": "stderr",
     "output_type": "stream",
     "text": [
      "c:\\Python39\\lib\\site-packages\\seaborn\\distributions.py:2619: FutureWarning: `distplot` is a deprecated function and will be removed in a future version. Please adapt your code to use either `displot` (a figure-level function with similar flexibility) or `histplot` (an axes-level function for histograms).\n",
      "  warnings.warn(msg, FutureWarning)\n"
     ]
    },
    {
     "data": {
      "text/plain": [
       "Text(0.5, 1.0, 'Frequency Distribution Plot of Prices in euros')"
      ]
     },
     "execution_count": 207,
     "metadata": {},
     "output_type": "execute_result"
    },
    {
     "data": {
      "image/png": "[encoded data removed]",
      "text/plain": [
       "<Figure size 720x432 with 1 Axes>"
      ]
     },
     "metadata": {
      "needs_background": "light"
     },
     "output_type": "display_data"
    }
   ],
   "source": [
    "x=df.Price\n",
    "plt.figure(figsize=(10, 6))\n",
    "sns.distplot(x).set_title('Frequency Distribution Plot of Prices in euros')\n"
   ]
  },
  {
   "cell_type": "code",
   "execution_count": 222,
   "metadata": {},
   "outputs": [],
   "source": [
    "df['Price'] = df['Price'].astype(float, errors='raise')\n",
    "df['Year'] = df['Year'].astype(float, errors='raise')\n"
   ]
  },
  {
   "cell_type": "code",
   "execution_count": 209,
   "metadata": {},
   "outputs": [
    {
     "data": {
      "text/plain": [
       "Make      object\n",
       "Model     object\n",
       "Km       float64\n",
       "Trim      object\n",
       "Year     float64\n",
       "Fuel      object\n",
       "Price    float64\n",
       "dtype: object"
      ]
     },
     "execution_count": 209,
     "metadata": {},
     "output_type": "execute_result"
    }
   ],
   "source": [
    "df.dtypes"
   ]
  },
  {
   "cell_type": "code",
   "execution_count": 210,
   "metadata": {},
   "outputs": [],
   "source": [
    "df.Km = df.Km*1000\n"
   ]
  },
  {
   "cell_type": "code",
   "execution_count": 213,
   "metadata": {},
   "outputs": [
    {
     "data": {
      "text/plain": [
       "Text(0.5, 1.0, 'Km vs Price')"
      ]
     },
     "execution_count": 213,
     "metadata": {},
     "output_type": "execute_result"
    },
    {
     "data": {
      "image/png": "[encoded data removed]",
      "text/plain": [
       "<Figure size 720x432 with 1 Axes>"
      ]
     },
     "metadata": {
      "needs_background": "light"
     },
     "output_type": "display_data"
    }
   ],
   "source": [
    "df = df[df.Year < 2021]\n",
    "plt.figure(figsize=(10, 6))\n",
    "sns.regplot(x='Year', y='Price', data=df).set_title('Km vs Price')\n"
   ]
  },
  {
   "cell_type": "code",
   "execution_count": 217,
   "metadata": {},
   "outputs": [
    {
     "data": {
      "text/plain": [
       "19"
      ]
     },
     "execution_count": 217,
     "metadata": {},
     "output_type": "execute_result"
    }
   ],
   "source": [
    "df.Model.nunique()\n",
    "df.Make.nunique()"
   ]
  }
 ],
 "metadata": {
  "interpreter": {
   "hash": "81794d4967e6c3204c66dcd87b604927b115b27c00565d3d43f05ba2f3a2cb0d"
  },
  "kernelspec": {
   "display_name": "Python 3.9.7 64-bit",
   "language": "python",
   "name": "python3"
  },
  "language_info": {
   "codemirror_mode": {
    "name": "ipython",
    "version": 3
   },
   "file_extension": ".py",
   "mimetype": "text/x-python",
   "name": "python",
   "nbconvert_exporter": "python",
   "pygments_lexer": "ipython3",
   "version": "3.9.7"
  },
  "orig_nbformat": 4
 },
 "nbformat": 4,
 "nbformat_minor": 2
}
