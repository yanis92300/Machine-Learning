{
 "cells": [
  {
   "cell_type": "code",
   "execution_count": 50,
   "metadata": {},
   "outputs": [],
   "source": [
    "from bs4 import BeautifulSoup as bs\n",
    "import pandas as pd\n",
    "import numpy as np\n",
    "import requests"
   ]
  },
  {
   "cell_type": "code",
   "execution_count": 93,
   "metadata": {},
   "outputs": [],
   "source": [
    "#feature location  a revoir quadn on passe a la page suivante (66-> 67)\n",
    "location = []\n",
    "for i in range (5,10):\n",
    "    r = requests.get(\n",
    "        'https://www.ooyyo.com/france/used-cars-for-sale/c=CDA31D7114D3854F111BFB6FAA6{}1453/'.format(i))\n",
    "    soup = bs(r.content, 'lxml')\n",
    "    \n",
    "    for j in range(0,15):\n",
    "        data_loc = soup.find_all(\"div\", {\"class\": \"mob-location\"})\n",
    "        str = data_loc[j].text\n",
    "        str = str.replace('\\n', \"\")\n",
    "        location.append(str)\n",
    "\n"
   ]
  },
  {
   "cell_type": "code",
   "execution_count": 102,
   "metadata": {},
   "outputs": [],
   "source": [
    "make=[]\n",
    "temph2=[]\n",
    "for i in range(5, 10):\n",
    "    r = requests.get(\n",
    "        'https://www.ooyyo.com/france/used-cars-for-sale/c=CDA31D7114D3854F111BFB6FAA6{}1453/'.format(i))\n",
    "    soup = bs(r.content, 'lxml')\n",
    "\n",
    "    for j in range(0, 15):\n",
    "        find_beta = soup.find_all(\"div\", {\"class\": \"beta\"})\n",
    "  \n",
    "    for data in find_beta:\n",
    "        temp = data.find('h2')\n",
    "        # print(temp.text)\n",
    "        temph2.append(temp)\n",
    "\n",
    "for text in temph2:\n",
    "        temp = text.find_next(\"span\").find_next('span')\n",
    "        make.append(temp.text)\n",
    "# a comprendre\n"
   ]
  },
  {
   "cell_type": "code",
   "execution_count": 103,
   "metadata": {},
   "outputs": [
    {
     "data": {
      "text/plain": [
       "75"
      ]
     },
     "execution_count": 103,
     "metadata": {},
     "output_type": "execute_result"
    }
   ],
   "source": [
    "# feature : Make,Model, Mi,Year, Fuel Type, City, \n",
    "len(make)"
   ]
  },
  {
   "cell_type": "code",
   "execution_count": 59,
   "metadata": {},
   "outputs": [
    {
     "data": {
      "text/plain": [
       "['Cayenne',\n",
       " 'Astra',\n",
       " 'Qashqai',\n",
       " 'A6',\n",
       " '5008',\n",
       " 'Xc60',\n",
       " 'Tiguan',\n",
       " 'Fabia',\n",
       " 'Crossland X',\n",
       " 'Boxster',\n",
       " 'Impreza',\n",
       " 'C4 Spacetourer',\n",
       " 'C4 Spacetourer',\n",
       " 'Rx',\n",
       " 'A-Class']"
      ]
     },
     "execution_count": 59,
     "metadata": {},
     "output_type": "execute_result"
    }
   ],
   "source": [
    "# page_offset = list(np.arange(0,1000,50))\n",
    "# page_offset\n",
    "\n",
    "model = []\n",
    "temph2 = []\n",
    "for i in range(0, 15):\n",
    "    r = requests.get(\n",
    "        'https://www.ooyyo.com/france/used-cars-for-sale/c=CDA31D7114D3854F111BFB6FAA651453/')\n",
    "    soup = bs(r.content, 'lxml')\n",
    "\n",
    "    find_beta = soup.find_all(\"div\", {\"class\": \"beta\"})\n",
    "\n",
    "for data in find_beta:\n",
    "    temp = data.find('h2')\n",
    "    # print(temp.text)\n",
    "    temph2.append(temp)\n",
    "\n",
    "for text in temph2:\n",
    "    temp = text.find_next(\"span\").find_next('span').find_next('span')\n",
    "    model.append(temp.text)\n",
    "\n",
    "\n",
    "model\n",
    "\n"
   ]
  },
  {
   "cell_type": "code",
   "execution_count": 41,
   "metadata": {},
   "outputs": [
    {
     "data": {
      "text/plain": [
       "['2015',\n",
       " '2016',\n",
       " '2014',\n",
       " '2014',\n",
       " '2016',\n",
       " '2009',\n",
       " '2019',\n",
       " '2017',\n",
       " '2017',\n",
       " '2012',\n",
       " '2018',\n",
       " '2021',\n",
       " '2021',\n",
       " '2016',\n",
       " '2017']"
      ]
     },
     "execution_count": 41,
     "metadata": {},
     "output_type": "execute_result"
    }
   ],
   "source": [
    "Year = []\n",
    "temph2 = []\n",
    "for i in range(0, 15):\n",
    "    r = requests.get(\n",
    "        'https://www.ooyyo.com/france/used-cars-for-sale/c=CDA31D7114D3854F111BFB6FAA651453/')\n",
    "    soup = bs(r.content, 'lxml')\n",
    "    #Yearr = soup.select(\"h2 + span\")\n",
    "\n",
    "    find_beta = soup.find_all(\"div\", {\"class\": \"beta\"})\n",
    "\n",
    "for data in find_beta:\n",
    "    temp = data.find('h2')\n",
    "    # print(temp.text)\n",
    "    temph2.append(temp)\n",
    "\n",
    "for text in temph2:\n",
    "    temp = text.find_next(\"span\")\n",
    "    Year.append(temp.text)\n",
    "\n",
    "\n",
    "Year\n"
   ]
  },
  {
   "cell_type": "code",
   "execution_count": 80,
   "metadata": {},
   "outputs": [
    {
     "data": {
      "text/plain": [
       "array([ 85.9  , 109.247,  74.522, 174.698, 109.841, 185.2  ,  60.725,\n",
       "        73.548,  60.555,  62.733,  35.12 ,   2.9  , 100.   ,  64.013,\n",
       "        77.709])"
      ]
     },
     "execution_count": 80,
     "metadata": {},
     "output_type": "execute_result"
    }
   ],
   "source": [
    "Km = []\n",
    "temph2 = []\n",
    "for i in range(0, 15):\n",
    "    r = requests.get(\n",
    "        'https://www.ooyyo.com/france/used-cars-for-sale/c=CDA31D7114D3854F111BFB6FAA651453/')\n",
    "    soup = bs(r.content, 'lxml')\n",
    "\n",
    "    find_beta = soup.find_all(\"div\", {\"class\": \"mileage\"})\n",
    "\n",
    "for data in find_beta:\n",
    "   temp= data.find('strong').text\n",
    "   temp= temp.replace(\"\\n\",\"\")\n",
    "   temp = temp.replace(\",\", \".\")\n",
    "   temp = temp.replace(\"km\", \"\")\n",
    "   temp = temp.replace(\" \", \"\")\n",
    "\n",
    "   Km.append(float(temp))\n",
    "\n",
    "Km= np.asarray(Km)\n",
    "Km"
   ]
  },
  {
   "cell_type": "code",
   "execution_count": 76,
   "metadata": {},
   "outputs": [
    {
     "data": {
      "text/plain": [
       "0.1"
      ]
     },
     "execution_count": 76,
     "metadata": {},
     "output_type": "execute_result"
    }
   ],
   "source": [
    "\n",
    "\n",
    "# for  i in range(len(Km)):\n",
    "#     if Km[0]== \"8\":\n",
    "#         print(\"oui\")\n",
    "\n",
    "\n",
    "\n",
    "\n",
    "\n"
   ]
  },
  {
   "cell_type": "code",
   "execution_count": null,
   "metadata": {},
   "outputs": [],
   "source": [
    "\n",
    "ad_title = []\n",
    "Fuel=[]\n",
    "price = []\n",
    "ad_date = []\n"
   ]
  },
  {
   "cell_type": "code",
   "execution_count": 12,
   "metadata": {},
   "outputs": [
    {
     "data": {
      "text/plain": [
       "[0,\n",
       " 50,\n",
       " 100,\n",
       " 150,\n",
       " 200,\n",
       " 250,\n",
       " 300,\n",
       " 350,\n",
       " 400,\n",
       " 450,\n",
       " 500,\n",
       " 550,\n",
       " 600,\n",
       " 650,\n",
       " 700,\n",
       " 750,\n",
       " 800,\n",
       " 850,\n",
       " 900,\n",
       " 950]"
      ]
     },
     "execution_count": 12,
     "metadata": {},
     "output_type": "execute_result"
    }
   ],
   "source": [
    "\n",
    "page_offset = list(np.arange(0,1000,50))\n",
    "page_offset"
   ]
  },
  {
   "cell_type": "markdown",
   "metadata": {},
   "source": []
  }
 ],
 "metadata": {
  "interpreter": {
   "hash": "81794d4967e6c3204c66dcd87b604927b115b27c00565d3d43f05ba2f3a2cb0d"
  },
  "kernelspec": {
   "display_name": "Python 3.9.7 64-bit",
   "language": "python",
   "name": "python3"
  },
  "language_info": {
   "codemirror_mode": {
    "name": "ipython",
    "version": 3
   },
   "file_extension": ".py",
   "mimetype": "text/x-python",
   "name": "python",
   "nbconvert_exporter": "python",
   "pygments_lexer": "ipython3",
   "version": "3.9.7"
  },
  "orig_nbformat": 4
 },
 "nbformat": 4,
 "nbformat_minor": 2
}
